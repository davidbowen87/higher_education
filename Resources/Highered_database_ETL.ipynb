{
  "nbformat": 4,
  "nbformat_minor": 0,
  "metadata": {
    "colab": {
      "provenance": []
    },
    "kernelspec": {
      "name": "python3",
      "display_name": "Python 3"
    },
    "language_info": {
      "name": "python"
    }
  },
  "cells": [
    {
      "cell_type": "code",
      "execution_count": 2,
      "metadata": {
        "colab": {
          "base_uri": "https://localhost:8080/"
        },
        "id": "hTL92WaUJ21N",
        "outputId": "56006c3f-8d27-4d3a-ef4b-9c3ee722a1af"
      },
      "outputs": [
        {
          "output_type": "stream",
          "name": "stdout",
          "text": [
            "Get:1 http://security.ubuntu.com/ubuntu focal-security InRelease [114 kB]\n",
            "Hit:2 http://archive.ubuntu.com/ubuntu focal InRelease\n",
            "Get:3 http://archive.ubuntu.com/ubuntu focal-updates InRelease [114 kB]\n",
            "Get:4 https://cloud.r-project.org/bin/linux/ubuntu focal-cran40/ InRelease [3,622 B]\n",
            "Get:5 https://developer.download.nvidia.com/compute/cuda/repos/ubuntu2004/x86_64  InRelease [1,581 B]\n",
            "Hit:6 http://ppa.launchpad.net/c2d4u.team/c2d4u4.0+/ubuntu focal InRelease\n",
            "Get:7 http://archive.ubuntu.com/ubuntu focal-backports InRelease [108 kB]\n",
            "Hit:8 http://ppa.launchpad.net/cran/libgit2/ubuntu focal InRelease\n",
            "Hit:9 http://ppa.launchpad.net/deadsnakes/ppa/ubuntu focal InRelease\n",
            "Hit:10 http://ppa.launchpad.net/graphics-drivers/ppa/ubuntu focal InRelease\n",
            "Get:11 https://developer.download.nvidia.com/compute/cuda/repos/ubuntu2004/x86_64  Packages [973 kB]\n",
            "Hit:12 http://ppa.launchpad.net/ubuntugis/ppa/ubuntu focal InRelease\n",
            "Get:13 http://security.ubuntu.com/ubuntu focal-security/restricted amd64 Packages [2,065 kB]\n",
            "Get:14 http://security.ubuntu.com/ubuntu focal-security/universe amd64 Packages [1,028 kB]\n",
            "Get:15 http://security.ubuntu.com/ubuntu focal-security/main amd64 Packages [2,593 kB]\n",
            "Get:16 http://archive.ubuntu.com/ubuntu focal-updates/restricted amd64 Packages [2,203 kB]\n",
            "Get:17 http://archive.ubuntu.com/ubuntu focal-updates/multiverse amd64 Packages [31.2 kB]\n",
            "Get:18 http://archive.ubuntu.com/ubuntu focal-updates/main amd64 Packages [3,073 kB]\n",
            "Get:19 http://archive.ubuntu.com/ubuntu focal-updates/universe amd64 Packages [1,324 kB]\n",
            "Fetched 13.6 MB in 3s (3,897 kB/s)\n",
            "Reading package lists... Done\n"
          ]
        }
      ],
      "source": [
        "# Load Amazon S3 data into Spark dataframe\n",
        "\n",
        "\n",
        "import os\n",
        "# Find the latest version of spark 3.2 from http://www.apache.org/dist/spark/ and enter as the spark version\n",
        "# For example:\n",
        "# spark_version = 'spark-3.2.3'\n",
        "spark_version = 'spark-3.2.3'\n",
        "os.environ['SPARK_VERSION']=spark_version\n",
        "\n",
        "# Install Spark and Java\n",
        "!apt-get update\n",
        "!apt-get install openjdk-11-jdk-headless -qq > /dev/null\n",
        "!wget -q http://www.apache.org/dist/spark/$SPARK_VERSION/$SPARK_VERSION-bin-hadoop2.7.tgz\n",
        "!tar xf $SPARK_VERSION-bin-hadoop2.7.tgz\n",
        "!pip install -q findspark\n",
        "\n",
        "# Set Environment Variables\n",
        "import os\n",
        "os.environ[\"JAVA_HOME\"] = \"/usr/lib/jvm/java-11-openjdk-amd64\"\n",
        "os.environ[\"SPARK_HOME\"] = f\"/content/{spark_version}-bin-hadoop2.7\"\n",
        "\n",
        "# Start a SparkSession\n",
        "import findspark\n",
        "findspark.init()"
      ]
    },
    {
      "cell_type": "code",
      "source": [
        "# Download the Postgres driver that will allow Spark to interact with Postgres.\n",
        "!wget https://jdbc.postgresql.org/download/postgresql-42.2.16.jar"
      ],
      "metadata": {
        "colab": {
          "base_uri": "https://localhost:8080/"
        },
        "id": "1_3cs-_VLSLH",
        "outputId": "d70695c7-d70c-4022-86c4-08377081c2af"
      },
      "execution_count": 3,
      "outputs": [
        {
          "output_type": "stream",
          "name": "stdout",
          "text": [
            "--2023-04-11 15:05:11--  https://jdbc.postgresql.org/download/postgresql-42.2.16.jar\n",
            "Resolving jdbc.postgresql.org (jdbc.postgresql.org)... 72.32.157.228, 2001:4800:3e1:1::228\n",
            "Connecting to jdbc.postgresql.org (jdbc.postgresql.org)|72.32.157.228|:443... connected.\n",
            "HTTP request sent, awaiting response... 200 OK\n",
            "Length: 1002883 (979K) [application/java-archive]\n",
            "Saving to: ‘postgresql-42.2.16.jar’\n",
            "\n",
            "postgresql-42.2.16. 100%[===================>] 979.38K  6.32MB/s    in 0.2s    \n",
            "\n",
            "2023-04-11 15:05:12 (6.32 MB/s) - ‘postgresql-42.2.16.jar’ saved [1002883/1002883]\n",
            "\n"
          ]
        }
      ]
    },
    {
      "cell_type": "code",
      "source": [
        "from pyspark.sql import SparkSession\n",
        "spark = SparkSession.builder.appName(\"Final-Project\").config(\"spark.driver.extraClassPath\",\"/content/postgresql-42.2.16.jar\").getOrCreate()"
      ],
      "metadata": {
        "id": "b9yA_K2dLhK-"
      },
      "execution_count": 4,
      "outputs": []
    },
    {
      "cell_type": "code",
      "source": [
        "# Read data from S3 bucket\n",
        "\n",
        "from pyspark import SparkFiles\n",
        "url = \"https://highered-bucket.s3.amazonaws.com/highered_merged_data.csv\"\n",
        "spark.sparkContext.addFile(url)\n",
        "highered_data_df = spark.read.option(\"encoding\", \"UTF-8\").csv(SparkFiles.get(\"highered_merged_data.csv\"), header=True, inferSchema=True)\n",
        "highered_data_df.show()"
      ],
      "metadata": {
        "colab": {
          "base_uri": "https://localhost:8080/"
        },
        "id": "edJEnqK7Lsch",
        "outputId": "7922f9bf-a41d-4e36-c38a-414f19207190"
      },
      "execution_count": 5,
      "outputs": [
        {
          "output_type": "stream",
          "name": "stdout",
          "text": [
            "+----+------+-------+-----+-------+-------+-------+--------------------+------+------+-----+-------+-------+--------+----------+---------+\n",
            "|Year|UNITID|FACSTAT|ARANK|HRTOTLT|HRTOTLM|HRTOTLW|              INSTNM|  CITY|STABBR|  ZIP|CONTROL|HLOFFER|INSTSIZE|  LONGITUD| LATITUDE|\n",
            "+----+------+-------+-----+-------+-------+-------+--------------------+------+------+-----+-------+-------+--------+----------+---------+\n",
            "|2019|100654|      0|    0|    242|    131|    111|Alabama A & M Uni...|Normal|    AL|35762|      1|      9|       3|-86.568502|34.783368|\n",
            "|2019|100654|     10|    0|    242|    131|    111|Alabama A & M Uni...|Normal|    AL|35762|      1|      9|       3|-86.568502|34.783368|\n",
            "|2019|100654|     10|    1|     49|     37|     12|Alabama A & M Uni...|Normal|    AL|35762|      1|      9|       3|-86.568502|34.783368|\n",
            "|2019|100654|     10|    2|     50|     34|     16|Alabama A & M Uni...|Normal|    AL|35762|      1|      9|       3|-86.568502|34.783368|\n",
            "|2019|100654|     10|    3|     98|     46|     52|Alabama A & M Uni...|Normal|    AL|35762|      1|      9|       3|-86.568502|34.783368|\n",
            "|2019|100654|     10|    4|     38|     11|     27|Alabama A & M Uni...|Normal|    AL|35762|      1|      9|       3|-86.568502|34.783368|\n",
            "|2019|100654|     10|    5|      7|      3|      4|Alabama A & M Uni...|Normal|    AL|35762|      1|      9|       3|-86.568502|34.783368|\n",
            "|2019|100654|     20|    0|     99|     68|     31|Alabama A & M Uni...|Normal|    AL|35762|      1|      9|       3|-86.568502|34.783368|\n",
            "|2019|100654|     20|    1|     49|     37|     12|Alabama A & M Uni...|Normal|    AL|35762|      1|      9|       3|-86.568502|34.783368|\n",
            "|2019|100654|     20|    2|     32|     22|     10|Alabama A & M Uni...|Normal|    AL|35762|      1|      9|       3|-86.568502|34.783368|\n",
            "|2019|100654|     20|    3|     18|      9|      9|Alabama A & M Uni...|Normal|    AL|35762|      1|      9|       3|-86.568502|34.783368|\n",
            "|2019|100654|     30|    0|     39|     16|     23|Alabama A & M Uni...|Normal|    AL|35762|      1|      9|       3|-86.568502|34.783368|\n",
            "|2019|100654|     30|    2|      9|      5|      4|Alabama A & M Uni...|Normal|    AL|35762|      1|      9|       3|-86.568502|34.783368|\n",
            "|2019|100654|     30|    3|     30|     11|     19|Alabama A & M Uni...|Normal|    AL|35762|      1|      9|       3|-86.568502|34.783368|\n",
            "|2019|100654|     40|    0|    104|     47|     57|Alabama A & M Uni...|Normal|    AL|35762|      1|      9|       3|-86.568502|34.783368|\n",
            "|2019|100654|     40|    2|      9|      7|      2|Alabama A & M Uni...|Normal|    AL|35762|      1|      9|       3|-86.568502|34.783368|\n",
            "|2019|100654|     40|    3|     50|     26|     24|Alabama A & M Uni...|Normal|    AL|35762|      1|      9|       3|-86.568502|34.783368|\n",
            "|2019|100654|     40|    4|     38|     11|     27|Alabama A & M Uni...|Normal|    AL|35762|      1|      9|       3|-86.568502|34.783368|\n",
            "|2019|100654|     40|    5|      7|      3|      4|Alabama A & M Uni...|Normal|    AL|35762|      1|      9|       3|-86.568502|34.783368|\n",
            "|2019|100654|     42|    0|    104|     47|     57|Alabama A & M Uni...|Normal|    AL|35762|      1|      9|       3|-86.568502|34.783368|\n",
            "+----+------+-------+-----+-------+-------+-------+--------------------+------+------+-----+-------+-------+--------+----------+---------+\n",
            "only showing top 20 rows\n",
            "\n"
          ]
        }
      ]
    },
    {
      "cell_type": "code",
      "source": [
        "# Create the appointment_type table\n",
        "duplicates_df = highered_data_df.select([\"UNITID\", \"ARANK\", \"HRTOTLT\"]).drop_duplicates()\n",
        "duplicates_df.show(10)"
      ],
      "metadata": {
        "colab": {
          "base_uri": "https://localhost:8080/"
        },
        "id": "_GA_Pie-IRdP",
        "outputId": "5fd11782-3db2-4bcf-e35d-fe2ec8f78078"
      },
      "execution_count": 49,
      "outputs": [
        {
          "output_type": "stream",
          "name": "stdout",
          "text": [
            "+------+-----+-------+\n",
            "|UNITID|ARANK|HRTOTLT|\n",
            "+------+-----+-------+\n",
            "|101541|    2|      3|\n",
            "|101587|    0|     36|\n",
            "|106245|    3|     10|\n",
            "|106342|    3|      6|\n",
            "|107725|    0|      2|\n",
            "|107877|    0|     14|\n",
            "|110565|    0|    147|\n",
            "|110574|    0|    193|\n",
            "|110653|    3|    239|\n",
            "|112260|    1|      3|\n",
            "+------+-----+-------+\n",
            "only showing top 10 rows\n",
            "\n"
          ]
        }
      ]
    },
    {
      "cell_type": "code",
      "source": [
        "# Create the appointment_type table\n",
        "appointment_type_df = duplicates_df.groupby(\"ARANK\").agg({\"HRTOTLT\":\"sum\"}).withColumnRenamed(\"sum(HRTOTLT)\" , \"HRTOTLT\")\n",
        "appointment_type_df.show(10)"
      ],
      "metadata": {
        "colab": {
          "base_uri": "https://localhost:8080/"
        },
        "id": "AoV5wvSONy99",
        "outputId": "da0e28f5-c04a-4f2b-8944-a752426ea363"
      },
      "execution_count": 50,
      "outputs": [
        {
          "output_type": "stream",
          "name": "stdout",
          "text": [
            "+-----+-------+\n",
            "|ARANK|HRTOTLT|\n",
            "+-----+-------+\n",
            "|    1| 962995|\n",
            "|    6| 194936|\n",
            "|    3|1091593|\n",
            "|    5| 238036|\n",
            "|    4| 463237|\n",
            "|    2| 908351|\n",
            "|    0|4884597|\n",
            "+-----+-------+\n",
            "\n"
          ]
        }
      ]
    },
    {
      "cell_type": "code",
      "source": [
        "# Create the faculty_status table\n",
        "faculty_duplicates_df = highered_data_df.select([\"UNITID\", \"FACSTAT\", \"HRTOTLT\"]).drop_duplicates()\n",
        "faculty_duplicates_df.show(10)"
      ],
      "metadata": {
        "colab": {
          "base_uri": "https://localhost:8080/"
        },
        "id": "2GRDmCG2JAh1",
        "outputId": "a8168d0d-c39f-46a3-aa6d-346277e5b2a6"
      },
      "execution_count": 52,
      "outputs": [
        {
          "output_type": "stream",
          "name": "stdout",
          "text": [
            "+------+-------+-------+\n",
            "|UNITID|FACSTAT|HRTOTLT|\n",
            "+------+-------+-------+\n",
            "|100654|     20|     49|\n",
            "|100690|     42|      3|\n",
            "|101541|     20|      4|\n",
            "|101602|     30|     15|\n",
            "|101879|     40|      2|\n",
            "|102377|     42|      2|\n",
            "|105297|     10|     10|\n",
            "|106412|     20|     19|\n",
            "|106412|     40|     54|\n",
            "|107512|     20|     22|\n",
            "+------+-------+-------+\n",
            "only showing top 10 rows\n",
            "\n"
          ]
        }
      ]
    },
    {
      "cell_type": "code",
      "source": [
        "# Create the faculty_status table\n",
        "faculty_status_df = faculty_duplicates_df.groupby(\"FACSTAT\").agg({\"HRTOTLT\":\"sum\"}).withColumnRenamed(\"sum(HRTOTLT)\" , \"HRTOTLT\")\n",
        "faculty_status_df.show(10)"
      ],
      "metadata": {
        "colab": {
          "base_uri": "https://localhost:8080/"
        },
        "id": "93OBMchtJNtt",
        "outputId": "6b115a61-b2b3-4835-c26e-b3c1ff79f08c"
      },
      "execution_count": 54,
      "outputs": [
        {
          "output_type": "stream",
          "name": "stdout",
          "text": [
            "+-------+-------+\n",
            "|FACSTAT|HRTOTLT|\n",
            "+-------+-------+\n",
            "|     44| 403529|\n",
            "|     20|1638174|\n",
            "|     40|1530471|\n",
            "|     41| 607436|\n",
            "|     43|  56728|\n",
            "|     10|3922719|\n",
            "|     50|  30510|\n",
            "|     45| 200416|\n",
            "|     42| 840200|\n",
            "|     30| 663558|\n",
            "+-------+-------+\n",
            "only showing top 10 rows\n",
            "\n"
          ]
        }
      ]
    },
    {
      "cell_type": "code",
      "source": [
        "# Create the institution size table\n",
        "institution_size_df = highered_data_df.select([\"Year\", \"UNITID\", \"HRTOTLT\", \"HRTOTLM\", \"HRTOTLW\", \"INSTSIZE\"]).drop_duplicates()\n",
        "institution_size_df.show(10)"
      ],
      "metadata": {
        "colab": {
          "base_uri": "https://localhost:8080/"
        },
        "id": "EJVROmkAhv7f",
        "outputId": "63ce985e-676c-4637-f4a0-b7d56099de8f"
      },
      "execution_count": 7,
      "outputs": [
        {
          "output_type": "stream",
          "name": "stdout",
          "text": [
            "+----+------+-------+-------+-------+--------+\n",
            "|Year|UNITID|HRTOTLT|HRTOTLM|HRTOTLW|INSTSIZE|\n",
            "+----+------+-------+-------+-------+--------+\n",
            "|2019|100663|    397|    205|    192|       5|\n",
            "|2019|100751|    408|    231|    177|       5|\n",
            "|2019|102049|     49|     14|     35|       3|\n",
            "|2019|102313|     31|     18|     13|       2|\n",
            "|2019|104179|    781|    536|    245|       5|\n",
            "|2019|104717|     89|     41|     48|       5|\n",
            "|2019|107600|     20|      8|     12|       1|\n",
            "|2019|107974|      8|      2|      6|       2|\n",
            "|2019|107983|     41|     24|     17|       2|\n",
            "|2019|110404|      2|      1|      1|       2|\n",
            "+----+------+-------+-------+-------+--------+\n",
            "only showing top 10 rows\n",
            "\n"
          ]
        }
      ]
    },
    {
      "cell_type": "code",
      "source": [
        "# Create the gender table\n",
        "gender_df = highered_data_df.select([\"Year\", \"UNITID\", \"HRTOTLT\", \"HRTOTLM\", \"HRTOTLW\"]).drop_duplicates()\n",
        "gender_df.show(10)"
      ],
      "metadata": {
        "colab": {
          "base_uri": "https://localhost:8080/"
        },
        "id": "UeVYVUCRoN1H",
        "outputId": "3eb2b943-9cb4-4073-8cd0-11a5d4e94227"
      },
      "execution_count": 22,
      "outputs": [
        {
          "output_type": "stream",
          "name": "stdout",
          "text": [
            "+----+------+-------+-------+-------+\n",
            "|Year|UNITID|HRTOTLT|HRTOTLM|HRTOTLW|\n",
            "+----+------+-------+-------+-------+\n",
            "|2019|101435|      3|      2|      1|\n",
            "|2019|101693|      1|      1|      0|\n",
            "|2019|104708|    170|     81|     89|\n",
            "|2019|106467|     74|     46|     28|\n",
            "|2019|109350|    162|     93|     69|\n",
            "|2019|110510|    125|     59|     66|\n",
            "|2019|111948|     19|     10|      9|\n",
            "|2019|113218|     10|      6|      4|\n",
            "|2019|114859|    227|    115|    112|\n",
            "|2019|117627|      6|      2|      4|\n",
            "+----+------+-------+-------+-------+\n",
            "only showing top 10 rows\n",
            "\n"
          ]
        }
      ]
    },
    {
      "cell_type": "code",
      "source": [
        "# Connect to the AWS RDS and write the DataFrames to their tables\n",
        "# Configure settings for RDS\n",
        "mode = \"append\"\n",
        "jdbc_url=\"jdbc:postgresql://highered-db.cx2ll8zuuepz.us-east-2.rds.amazonaws.com:5432/postgres\"\n",
        "config = {\"user\":\"postgres\", \n",
        "          \"password\": \"db_password\", \n",
        "          \"driver\":\"org.postgresql.Driver\"}"
      ],
      "metadata": {
        "id": "UXR9OddQ7Dfo"
      },
      "execution_count": 32,
      "outputs": []
    },
    {
      "cell_type": "code",
      "source": [
        "# Write appointment_type_df to table in RDS\n",
        "appointment_type_df.write.jdbc(url=jdbc_url, table='appointment_type', mode=mode, properties=config)"
      ],
      "metadata": {
        "id": "Gy0n6B238Yha"
      },
      "execution_count": 51,
      "outputs": []
    },
    {
      "cell_type": "code",
      "source": [
        "# Write highered_data_df to table in RDS\n",
        "highered_data_df.write.jdbc(url=jdbc_url, table='highered_data_table', mode=mode, properties=config)"
      ],
      "metadata": {
        "id": "ehBkr8rg-XUK"
      },
      "execution_count": 34,
      "outputs": []
    },
    {
      "cell_type": "code",
      "source": [
        "# Write institution_size_df to table in RDS\n",
        "institution_size_df.write.jdbc(url=jdbc_url, table='institution_table', mode=mode, properties=config)"
      ],
      "metadata": {
        "id": "YuDBWaL_DOGQ"
      },
      "execution_count": 36,
      "outputs": []
    },
    {
      "cell_type": "code",
      "source": [
        "# Write gender_df to table in RDS\n",
        "gender_df.write.jdbc(url=jdbc_url, table='gender_table', mode=mode, properties=config)"
      ],
      "metadata": {
        "id": "KEWyqOa3EUDy"
      },
      "execution_count": 37,
      "outputs": []
    },
    {
      "cell_type": "code",
      "source": [
        "# Write faculty_status_df to table in RDS\n",
        "faculty_status_df.write.jdbc(url=jdbc_url, table='faculty_status_table', mode=mode, properties=config)"
      ],
      "metadata": {
        "id": "Ve4YsFmHKD_B"
      },
      "execution_count": 55,
      "outputs": []
    }
  ]
}