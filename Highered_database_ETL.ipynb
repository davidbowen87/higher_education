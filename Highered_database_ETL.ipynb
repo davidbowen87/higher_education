{
  "nbformat": 4,
  "nbformat_minor": 0,
  "metadata": {
    "colab": {
      "provenance": []
    },
    "kernelspec": {
      "name": "python3",
      "display_name": "Python 3"
    },
    "language_info": {
      "name": "python"
    }
  },
  "cells": [
    {
      "cell_type": "code",
      "execution_count": 1,
      "metadata": {
        "colab": {
          "base_uri": "https://localhost:8080/"
        },
        "id": "hTL92WaUJ21N",
        "outputId": "18ce230d-fd18-4506-b625-222709dfd054"
      },
      "outputs": [
        {
          "output_type": "stream",
          "name": "stdout",
          "text": [
            "\r0% [Working]\r            \rGet:1 https://cloud.r-project.org/bin/linux/ubuntu focal-cran40/ InRelease [3,622 B]\n",
            "Hit:2 https://developer.download.nvidia.com/compute/cuda/repos/ubuntu2004/x86_64  InRelease\n",
            "Hit:3 http://archive.ubuntu.com/ubuntu focal InRelease\n",
            "Get:4 http://archive.ubuntu.com/ubuntu focal-updates InRelease [114 kB]\n",
            "Get:5 http://security.ubuntu.com/ubuntu focal-security InRelease [114 kB]\n",
            "Hit:6 http://ppa.launchpad.net/c2d4u.team/c2d4u4.0+/ubuntu focal InRelease\n",
            "Get:7 http://archive.ubuntu.com/ubuntu focal-backports InRelease [108 kB]\n",
            "Hit:8 http://ppa.launchpad.net/cran/libgit2/ubuntu focal InRelease\n",
            "Hit:9 http://ppa.launchpad.net/deadsnakes/ppa/ubuntu focal InRelease\n",
            "Hit:10 http://ppa.launchpad.net/graphics-drivers/ppa/ubuntu focal InRelease\n",
            "Hit:11 http://ppa.launchpad.net/ubuntugis/ppa/ubuntu focal InRelease\n",
            "Get:12 http://archive.ubuntu.com/ubuntu focal-updates/main amd64 Packages [3,073 kB]\n",
            "Get:13 http://archive.ubuntu.com/ubuntu focal-updates/universe amd64 Packages [1,324 kB]\n",
            "Get:14 http://archive.ubuntu.com/ubuntu focal-updates/restricted amd64 Packages [2,203 kB]\n",
            "Get:15 http://archive.ubuntu.com/ubuntu focal-updates/multiverse amd64 Packages [31.2 kB]\n",
            "Fetched 6,971 kB in 4s (1,682 kB/s)\n",
            "Reading package lists... Done\n"
          ]
        }
      ],
      "source": [
        "# Load Amazon S3 data into Spark dataframe\n",
        "\n",
        "\n",
        "import os\n",
        "# Find the latest version of spark 3.2 from http://www.apache.org/dist/spark/ and enter as the spark version\n",
        "# For example:\n",
        "# spark_version = 'spark-3.2.3'\n",
        "spark_version = 'spark-3.2.3'\n",
        "os.environ['SPARK_VERSION']=spark_version\n",
        "\n",
        "# Install Spark and Java\n",
        "!apt-get update\n",
        "!apt-get install openjdk-11-jdk-headless -qq > /dev/null\n",
        "!wget -q http://www.apache.org/dist/spark/$SPARK_VERSION/$SPARK_VERSION-bin-hadoop2.7.tgz\n",
        "!tar xf $SPARK_VERSION-bin-hadoop2.7.tgz\n",
        "!pip install -q findspark\n",
        "\n",
        "# Set Environment Variables\n",
        "import os\n",
        "os.environ[\"JAVA_HOME\"] = \"/usr/lib/jvm/java-11-openjdk-amd64\"\n",
        "os.environ[\"SPARK_HOME\"] = f\"/content/{spark_version}-bin-hadoop2.7\"\n",
        "\n",
        "# Start a SparkSession\n",
        "import findspark\n",
        "findspark.init()"
      ]
    },
    {
      "cell_type": "code",
      "source": [
        "# Download the Postgres driver that will allow Spark to interact with Postgres.\n",
        "!wget https://jdbc.postgresql.org/download/postgresql-42.2.16.jar"
      ],
      "metadata": {
        "colab": {
          "base_uri": "https://localhost:8080/"
        },
        "id": "1_3cs-_VLSLH",
        "outputId": "f209292f-9123-4daa-e6c7-10e5c7c7ed83"
      },
      "execution_count": 2,
      "outputs": [
        {
          "output_type": "stream",
          "name": "stdout",
          "text": [
            "--2023-04-10 23:18:03--  https://jdbc.postgresql.org/download/postgresql-42.2.16.jar\n",
            "Resolving jdbc.postgresql.org (jdbc.postgresql.org)... 72.32.157.228, 2001:4800:3e1:1::228\n",
            "Connecting to jdbc.postgresql.org (jdbc.postgresql.org)|72.32.157.228|:443... connected.\n",
            "HTTP request sent, awaiting response... 200 OK\n",
            "Length: 1002883 (979K) [application/java-archive]\n",
            "Saving to: ‘postgresql-42.2.16.jar’\n",
            "\n",
            "postgresql-42.2.16. 100%[===================>] 979.38K  6.00MB/s    in 0.2s    \n",
            "\n",
            "2023-04-10 23:18:04 (6.00 MB/s) - ‘postgresql-42.2.16.jar’ saved [1002883/1002883]\n",
            "\n"
          ]
        }
      ]
    },
    {
      "cell_type": "code",
      "source": [
        "from pyspark.sql import SparkSession\n",
        "spark = SparkSession.builder.appName(\"Final-Project\").config(\"spark.driver.extraClassPath\",\"/content/postgresql-42.2.16.jar\").getOrCreate()"
      ],
      "metadata": {
        "id": "b9yA_K2dLhK-"
      },
      "execution_count": 3,
      "outputs": []
    },
    {
      "cell_type": "code",
      "source": [
        "# Read data from S3 bucket\n",
        "\n",
        "from pyspark import SparkFiles\n",
        "url = \"https://highered-bucket.s3.amazonaws.com/highered_merged_data.csv\"\n",
        "spark.sparkContext.addFile(url)\n",
        "highered_data_df = spark.read.option(\"encoding\", \"UTF-8\").csv(SparkFiles.get(\"highered_merged_data.csv\"), header=True, inferSchema=True)\n",
        "highered_data_df.show()"
      ],
      "metadata": {
        "colab": {
          "base_uri": "https://localhost:8080/"
        },
        "id": "edJEnqK7Lsch",
        "outputId": "b18fe9f8-a777-4134-9033-3d4dd88b2435"
      },
      "execution_count": 6,
      "outputs": [
        {
          "output_type": "stream",
          "name": "stdout",
          "text": [
            "+----+------+-------+-----+-------+-------+-------+--------------------+------+------+-----+-------+-------+--------+----------+---------+\n",
            "|Year|UNITID|FACSTAT|ARANK|HRTOTLT|HRTOTLM|HRTOTLW|              INSTNM|  CITY|STABBR|  ZIP|CONTROL|HLOFFER|INSTSIZE|  LONGITUD| LATITUDE|\n",
            "+----+------+-------+-----+-------+-------+-------+--------------------+------+------+-----+-------+-------+--------+----------+---------+\n",
            "|2019|100654|      0|    0|    242|    131|    111|Alabama A & M Uni...|Normal|    AL|35762|      1|      9|       3|-86.568502|34.783368|\n",
            "|2019|100654|     10|    0|    242|    131|    111|Alabama A & M Uni...|Normal|    AL|35762|      1|      9|       3|-86.568502|34.783368|\n",
            "|2019|100654|     10|    1|     49|     37|     12|Alabama A & M Uni...|Normal|    AL|35762|      1|      9|       3|-86.568502|34.783368|\n",
            "|2019|100654|     10|    2|     50|     34|     16|Alabama A & M Uni...|Normal|    AL|35762|      1|      9|       3|-86.568502|34.783368|\n",
            "|2019|100654|     10|    3|     98|     46|     52|Alabama A & M Uni...|Normal|    AL|35762|      1|      9|       3|-86.568502|34.783368|\n",
            "|2019|100654|     10|    4|     38|     11|     27|Alabama A & M Uni...|Normal|    AL|35762|      1|      9|       3|-86.568502|34.783368|\n",
            "|2019|100654|     10|    5|      7|      3|      4|Alabama A & M Uni...|Normal|    AL|35762|      1|      9|       3|-86.568502|34.783368|\n",
            "|2019|100654|     20|    0|     99|     68|     31|Alabama A & M Uni...|Normal|    AL|35762|      1|      9|       3|-86.568502|34.783368|\n",
            "|2019|100654|     20|    1|     49|     37|     12|Alabama A & M Uni...|Normal|    AL|35762|      1|      9|       3|-86.568502|34.783368|\n",
            "|2019|100654|     20|    2|     32|     22|     10|Alabama A & M Uni...|Normal|    AL|35762|      1|      9|       3|-86.568502|34.783368|\n",
            "|2019|100654|     20|    3|     18|      9|      9|Alabama A & M Uni...|Normal|    AL|35762|      1|      9|       3|-86.568502|34.783368|\n",
            "|2019|100654|     30|    0|     39|     16|     23|Alabama A & M Uni...|Normal|    AL|35762|      1|      9|       3|-86.568502|34.783368|\n",
            "|2019|100654|     30|    2|      9|      5|      4|Alabama A & M Uni...|Normal|    AL|35762|      1|      9|       3|-86.568502|34.783368|\n",
            "|2019|100654|     30|    3|     30|     11|     19|Alabama A & M Uni...|Normal|    AL|35762|      1|      9|       3|-86.568502|34.783368|\n",
            "|2019|100654|     40|    0|    104|     47|     57|Alabama A & M Uni...|Normal|    AL|35762|      1|      9|       3|-86.568502|34.783368|\n",
            "|2019|100654|     40|    2|      9|      7|      2|Alabama A & M Uni...|Normal|    AL|35762|      1|      9|       3|-86.568502|34.783368|\n",
            "|2019|100654|     40|    3|     50|     26|     24|Alabama A & M Uni...|Normal|    AL|35762|      1|      9|       3|-86.568502|34.783368|\n",
            "|2019|100654|     40|    4|     38|     11|     27|Alabama A & M Uni...|Normal|    AL|35762|      1|      9|       3|-86.568502|34.783368|\n",
            "|2019|100654|     40|    5|      7|      3|      4|Alabama A & M Uni...|Normal|    AL|35762|      1|      9|       3|-86.568502|34.783368|\n",
            "|2019|100654|     42|    0|    104|     47|     57|Alabama A & M Uni...|Normal|    AL|35762|      1|      9|       3|-86.568502|34.783368|\n",
            "+----+------+-------+-----+-------+-------+-------+--------------------+------+------+-----+-------+-------+--------+----------+---------+\n",
            "only showing top 20 rows\n",
            "\n"
          ]
        }
      ]
    },
    {
      "cell_type": "code",
      "source": [
        "# Create the appointment_type table\n",
        "appointment_type_df = highered_data_df.select([\"Year\", \"UNITID\", \"FACSTAT\", \"ARANK\", \"HRTOTLT\", \"HRTOTLM\", \"HRTOTLW\"]).drop_duplicates()\n",
        "appointment_type_df.show(10)"
      ],
      "metadata": {
        "colab": {
          "base_uri": "https://localhost:8080/"
        },
        "id": "AoV5wvSONy99",
        "outputId": "f32369a3-1961-4e7c-964b-d3906b2dd601"
      },
      "execution_count": 10,
      "outputs": [
        {
          "output_type": "stream",
          "name": "stdout",
          "text": [
            "+----+------+-------+-----+-------+-------+-------+\n",
            "|Year|UNITID|FACSTAT|ARANK|HRTOTLT|HRTOTLM|HRTOTLW|\n",
            "+----+------+-------+-----+-------+-------+-------+\n",
            "|2019|100654|     20|    0|     99|     68|     31|\n",
            "|2019|101286|     10|    6|    139|     49|     90|\n",
            "|2019|101587|     40|    0|     36|     10|     26|\n",
            "|2019|101602|     20|    6|     39|     15|     24|\n",
            "|2019|101675|     20|    0|      7|      6|      1|\n",
            "|2019|102094|     10|    4|    129|     38|     91|\n",
            "|2019|102234|     40|    2|      1|      0|      1|\n",
            "|2019|102298|     20|    0|      8|      6|      2|\n",
            "|2019|102298|     30|    4|      7|      2|      5|\n",
            "|2019|102377|     10|    2|     83|     44|     39|\n",
            "+----+------+-------+-----+-------+-------+-------+\n",
            "only showing top 10 rows\n",
            "\n"
          ]
        }
      ]
    },
    {
      "cell_type": "code",
      "source": [
        "# Create the institution size table\n",
        "institution_size_df = highered_data_df.select([\"Year\", \"UNITID\", \"HRTOTLT\", \"HRTOTLM\", \"HRTOTLW\", \"INSTSIZE\"]).drop_duplicates()\n",
        "institution_size_df.show(10)"
      ],
      "metadata": {
        "colab": {
          "base_uri": "https://localhost:8080/"
        },
        "id": "EJVROmkAhv7f",
        "outputId": "6d4eeeaf-ea70-43ef-e2f6-fdef46620a0e"
      },
      "execution_count": 13,
      "outputs": [
        {
          "output_type": "stream",
          "name": "stdout",
          "text": [
            "+----+------+-------+-------+-------+--------+\n",
            "|Year|UNITID|HRTOTLT|HRTOTLM|HRTOTLW|INSTSIZE|\n",
            "+----+------+-------+-------+-------+--------+\n",
            "|2019|100663|    397|    205|    192|       5|\n",
            "|2019|100751|    408|    231|    177|       5|\n",
            "|2019|102049|     49|     14|     35|       3|\n",
            "|2019|102313|     31|     18|     13|       2|\n",
            "|2019|104179|    781|    536|    245|       5|\n",
            "|2019|104717|     89|     41|     48|       5|\n",
            "|2019|107600|     20|      8|     12|       1|\n",
            "|2019|107974|      8|      2|      6|       2|\n",
            "|2019|107983|     41|     24|     17|       2|\n",
            "|2019|110404|      2|      1|      1|       2|\n",
            "+----+------+-------+-------+-------+--------+\n",
            "only showing top 10 rows\n",
            "\n"
          ]
        }
      ]
    },
    {
      "cell_type": "code",
      "source": [
        "# Create the gender table\n",
        "test_df = highered_data_df.select([\"Year\", \"UNITID\", \"HRTOTLT\", \"HRTOTLM\", \"HRTOTLW\"]).drop_duplicates()\n",
        "test_df.show(10)"
      ],
      "metadata": {
        "colab": {
          "base_uri": "https://localhost:8080/"
        },
        "id": "UeVYVUCRoN1H",
        "outputId": "704d7889-08b1-4756-e25d-0dcd569f97d0"
      },
      "execution_count": 29,
      "outputs": [
        {
          "output_type": "stream",
          "name": "stdout",
          "text": [
            "+----+------+-------+-------+-------+\n",
            "|Year|UNITID|HRTOTLT|HRTOTLM|HRTOTLW|\n",
            "+----+------+-------+-------+-------+\n",
            "|2019|101435|      3|      2|      1|\n",
            "|2019|101693|      1|      1|      0|\n",
            "|2019|104708|    170|     81|     89|\n",
            "|2019|106467|     74|     46|     28|\n",
            "|2019|109350|    162|     93|     69|\n",
            "|2019|110510|    125|     59|     66|\n",
            "|2019|111948|     19|     10|      9|\n",
            "|2019|113218|     10|      6|      4|\n",
            "|2019|114859|    227|    115|    112|\n",
            "|2019|117627|      6|      2|      4|\n",
            "+----+------+-------+-------+-------+\n",
            "only showing top 10 rows\n",
            "\n"
          ]
        }
      ]
    },
    {
      "cell_type": "code",
      "source": [
        "test_df.groupby(\"UNITID\").agg(sum(\"HRTOTLT\").alias(\"sum_HRTOTLT\")).show()\n"
      ],
      "metadata": {
        "colab": {
          "base_uri": "https://localhost:8080/",
          "height": 165
        },
        "id": "qIuHWvibqRS-",
        "outputId": "94b3c130-d177-4e74-b8df-955a90f8d514"
      },
      "execution_count": 41,
      "outputs": [
        {
          "output_type": "error",
          "ename": "TypeError",
          "evalue": "ignored",
          "traceback": [
            "\u001b[0;31m---------------------------------------------------------------------------\u001b[0m",
            "\u001b[0;31mTypeError\u001b[0m                                 Traceback (most recent call last)",
            "\u001b[0;32m<ipython-input-41-966454c67ea8>\u001b[0m in \u001b[0;36m<cell line: 1>\u001b[0;34m()\u001b[0m\n\u001b[0;32m----> 1\u001b[0;31m \u001b[0mtest_df\u001b[0m\u001b[0;34m.\u001b[0m\u001b[0mgroupby\u001b[0m\u001b[0;34m(\u001b[0m\u001b[0;34m\"UNITID\"\u001b[0m\u001b[0;34m)\u001b[0m\u001b[0;34m.\u001b[0m\u001b[0magg\u001b[0m\u001b[0;34m(\u001b[0m\u001b[0msum\u001b[0m\u001b[0;34m(\u001b[0m\u001b[0;34m\"HRTOTLT\"\u001b[0m\u001b[0;34m)\u001b[0m\u001b[0;34m)\u001b[0m\u001b[0;34m.\u001b[0m\u001b[0mshow\u001b[0m\u001b[0;34m(\u001b[0m\u001b[0;34m)\u001b[0m\u001b[0;34m\u001b[0m\u001b[0;34m\u001b[0m\u001b[0m\n\u001b[0m",
            "\u001b[0;31mTypeError\u001b[0m: unsupported operand type(s) for +: 'int' and 'str'"
          ]
        }
      ]
    },
    {
      "cell_type": "code",
      "source": [
        "test_df.dtypes"
      ],
      "metadata": {
        "colab": {
          "base_uri": "https://localhost:8080/"
        },
        "id": "mYR9I6fLu-9k",
        "outputId": "65ea0ca1-2f8a-4739-9fd4-10b46d8e2fa2"
      },
      "execution_count": 39,
      "outputs": [
        {
          "output_type": "execute_result",
          "data": {
            "text/plain": [
              "[('Year', 'int'),\n",
              " ('UNITID', 'int'),\n",
              " ('HRTOTLT', 'int'),\n",
              " ('HRTOTLM', 'int'),\n",
              " ('HRTOTLW', 'int')]"
            ]
          },
          "metadata": {},
          "execution_count": 39
        }
      ]
    }
  ]
}